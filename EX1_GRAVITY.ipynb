{
 "cells": [
  {
   "cell_type": "markdown",
   "metadata": {},
   "source": [
    "# Earth's lithospheric motions\n",
    "\n",
    "### Author(s), contact(s), and dates:\n",
    "- Author: Valentina Espinoza Fernández (University of Copenhagen)\n",
    "- Email:  vf@ign.ku.dk\n",
    "- Date:   9th of January 2024"
   ]
  },
  {
   "cell_type": "markdown",
   "metadata": {},
   "source": [
    "## Exercise 1: Gravity profile of a buried object\n",
    "\n",
    "Gravity is a powerful tool to study the Earth's interior. In this exercise, we will make use of some valuable information passed onto us by a Geophysicist. The Geophysicist has told us that beneath a hill, there is a body of high mineralogical value. The Geophysicist got as far as to measure the gravity anomaly along a profile from West to East. Measurements are stored in the DataFrame `grav_data` below. \n",
    "\n",
    "Perform the following exercises:\n",
    "\n",
    "1. Plot the gravity anomaly and topography as a function of distance. Is there something odd about this profile? Based on what observation did the Geophysicist claim there to be a anomalous object?\n",
    "\n",
    "2. Make the necessary corrections to the gravity data. Make an short argument for all corrections, the ones you did and the ones you did not (Latitudinal, Free-Air, Bouguer). Plot the corrected gravity data as a function of distance.\n",
    "\n",
    "3. Determine whether the density of the alleged mineralized body is higher or lower than the surrounding rock.\n",
    "\n",
    "4. Determine the depth of the mineralized body as a function of radius ($R$), assuming a spherical shape of density ($\\Delta \\rho = 3000~kg~m^{-3}$). "
   ]
  },
  {
   "cell_type": "markdown",
   "metadata": {},
   "source": [
    "Notes: \n",
    "- The gravity measurements were not done at the same height above the reference level (height = 0m). Corrections must be performed (e.g. Free Air, Bouguer). \n",
    "- Free Air Correction: $3.1 \\cdot 10^{-6} m/s^2$ per meter of elevation\n",
    "- Bouguer Correction:  $[2\\pi G \\rho]$ per meter of elevation, for the density ($\\rho$) consider a average continental lithosphere.\n",
    "- The expression that links gravity anomalies ($\\Delta g$) with the depth ($h$) buried spherical objects is (Eq. 5.102 in Turcotte&Schubert):\n",
    "$$\\Delta g(h, x) = \\frac{4\\pi GR^3\\Delta\\rho}{3}\\frac{h}{(x^2 + h^2)^{2/3}}$$\n",
    "\n",
    "where x is the horizontal distance from the center of the sphere, $R$ is the radius of the sphere, $\\Delta\\rho$ is the density contrast between the sphere and the surrounding rock, and $G$ is the gravitational constant."
   ]
  },
  {
   "cell_type": "code",
   "execution_count": null,
   "metadata": {},
   "outputs": [],
   "source": [
    "# Public dependencies\n",
    "import numpy as np\n",
    "import pandas as pd\n",
    "import matplotlib.pyplot as plt"
   ]
  },
  {
   "cell_type": "code",
   "execution_count": null,
   "metadata": {},
   "outputs": [],
   "source": [
    "# Gravity and topography data from a profile\n",
    "grav_data = pd.DataFrame({'distance':[0, 10, 20, 30, 50, 100, 0],  # meters\n",
    "                          'height':[100, 90, 64, 37, 6, 0, 100],     # meters\n",
    "                          'gravity':[10e-5, 10e-5, 10e-5, 10e-5, 10e-5, 10e-5, 10e-5]})    # m/s^2\n",
    "grav_data"
   ]
  },
  {
   "cell_type": "markdown",
   "metadata": {},
   "source": [
    "Notice how the measurement at $x=0$ is performed twice to check for instrumental drift. No correction is needed in this case, but how would you correct, had there been some drift?"
   ]
  },
  {
   "cell_type": "code",
   "execution_count": null,
   "metadata": {},
   "outputs": [],
   "source": [
    "# Plot data\n",
    "fig, [ax1, ax2] = plt.subplots(1, 2, figsize=(15,5))    # Figure with 1 row, 2 columns of plots\n",
    "\n",
    "# Topography\n",
    "ax1.plot(grav_data['distance'][:-1], grav_data['height'][:-1], '-o') # '-o' means to plot lines and points\n",
    "ax1.set(xlabel = \"Distance (m)\",\n",
    "        ylabel = \"Height (m)\",\n",
    "        title = \"Topography\")\n",
    "\n",
    "# Gravity\n",
    "\n",
    "ax2.plot(grav_data['distance'][:-1], grav_data['gravity'][:-1], '-o')\n",
    "ax2.set(xlabel = \"Distance (m)\",\n",
    "        ylabel = \"Gravity ($m/s^2$)\",\n",
    "        title = \"Gravity anomaly\");\n",
    "\n",
    "\n",
    "# Would be kind of nice to have the y-axis in scientific notation. You can achieve this with ticklabel_format.\n",
    "#ax2.ticklabel_format(axis=\"both\", style=\"scientific\", scilimits=(0,0))"
   ]
  },
  {
   "cell_type": "markdown",
   "metadata": {},
   "source": [
    "### Free-air correction\n",
    "\n",
    "we will strat by applying a *free-air correction* to our observed gravity anomaly. For gravity data in $m/s^2$, the correction equals:\n",
    "\n",
    "$$FAC = 3.1 \\cdot 10^{-6} \\cdot h(m) $$"
   ]
  },
  {
   "cell_type": "code",
   "execution_count": null,
   "metadata": {},
   "outputs": [],
   "source": [
    "# Calculate free-air correction and sore the result in a new column\n",
    "grav_data['FAC'] = 3.1e-6 * grav_data['height']\n",
    "grav_data"
   ]
  },
  {
   "cell_type": "markdown",
   "metadata": {},
   "source": [
    "### Bouguer correction\n",
    "The Bouguer correction in $m/s^2$ is:\n",
    "$$BC=[2\\pi G \\rho_{B} \\; h]$$"
   ]
  },
  {
   "cell_type": "code",
   "execution_count": null,
   "metadata": {},
   "outputs": [],
   "source": [
    "#Calculation of Bouguer correction:\n",
    "\n",
    "rho = 0.0           # Put a value for the density of average continental lithosphere. Make sure to use SI units (kg*m-3).\n",
    "G = 6.67*(1e-11)    # Gravitational constant [N*kg-2*m2]\n",
    " \n",
    "grav_data['BC'] = 2 * np.pi * G * rho * grav_data['height']\n",
    "grav_data"
   ]
  },
  {
   "cell_type": "markdown",
   "metadata": {},
   "source": [
    "So far we have perfomed two corrections. The Geophysicist argues that there is no need for a *Latitudinal correction*. Why is that?"
   ]
  },
  {
   "cell_type": "markdown",
   "metadata": {},
   "source": [
    "### Bouguer gravity anomaly\n",
    "the Geophysicist supplied you with gravity anomaly data, i.e. he already subtracted the gravity reference from his measured gravity. Then:\n",
    "\n",
    "$$\\Delta g_B = g_{obs} + FAC - BC$$"
   ]
  },
  {
   "cell_type": "code",
   "execution_count": null,
   "metadata": {},
   "outputs": [],
   "source": [
    "#Bouguer gravity anomaly:\n",
    "grav_data['BA'] = grav_data['gravity'] + grav_data['FAC'] - grav_data['BC']\n",
    "grav_data"
   ]
  },
  {
   "cell_type": "code",
   "execution_count": null,
   "metadata": {},
   "outputs": [],
   "source": [
    "Hello"
   ]
  },
  {
   "cell_type": "code",
   "execution_count": null,
   "metadata": {},
   "outputs": [],
   "source": [
    "#Plot gravity anomaly:\n",
    "plt.plot(grav_data['distance'][:-1], grav_data['BA'][:-1], '-o', label='Bouguer gravity anomaly')\n",
    "plt.title('Bouguer gravity anomaly')\n",
    "plt.xlabel('Distance (m)')\n",
    "plt.ylabel('Gravity ($m/s^2$)');"
   ]
  },
  {
   "cell_type": "markdown",
   "metadata": {},
   "source": [
    "We have left to determine:\n",
    "\n",
    "- Whether the density of the alleged mineralized body is higher or lower than the surrounding rock.\n",
    "- The depth of the mineralized body as a function of density contrast, assuming a spherical shape. \n",
    "\n",
    "Hint: From the Bouguer gravity anomaly, we observe to things: (i) The anomaly is positive, and (ii) its highest is at the left. "
   ]
  },
  {
   "cell_type": "markdown",
   "metadata": {},
   "source": [
    "## BONUS\n",
    "\n",
    "A little quantitative analysis will help us determine the density contrast and depth of the mineralized body."
   ]
  },
  {
   "cell_type": "code",
   "execution_count": null,
   "metadata": {},
   "outputs": [],
   "source": [
    "rho_sphere = 3000 # kg/m3\n",
    "rho_ref = 2700 # kg/m3\n",
    "G = 6.67*(1e-11)    # [N*kg-2*m2]\n",
    "h_array = np.linspace(1, 100, 1000) # m\n",
    "\n",
    "def radius_sphere(d_grav, rho_ref, rho_sphere, h, x):\n",
    "    return ((d_grav * 3*(x**2 + h**2)**(3/2)) / (h*4*np.pi*G*(rho_sphere - rho_ref)))**(1/3)\n",
    "\n",
    "def plot_depth_vs_radius(idx):\n",
    "    row = grav_data.iloc[idx]\n",
    "    radius_array = np.array([radius_sphere(row['BA'], rho_ref, rho_sphere, h, row['distance']) for h in h_array])\n",
    "    plt.plot(h_array, radius_array)\n",
    "\n",
    "for idx in range(5):\n",
    "    plot_depth_vs_radius(idx)\n",
    " \n",
    "plt.xlabel('Depth (m)')\n",
    "plt.ylabel('Radius (m)')\n",
    "plt.title('Depth vs Radius for buried sphere')    \n",
    "plt.grid()"
   ]
  }
 ],
 "metadata": {
  "kernelspec": {
   "display_name": "Python 3",
   "language": "python",
   "name": "python3"
  },
  "language_info": {
   "codemirror_mode": {
    "name": "ipython",
    "version": 3
   },
   "file_extension": ".py",
   "mimetype": "text/x-python",
   "name": "python",
   "nbconvert_exporter": "python",
   "pygments_lexer": "ipython3",
   "version": "3.8.16"
  }
 },
 "nbformat": 4,
 "nbformat_minor": 4
}
