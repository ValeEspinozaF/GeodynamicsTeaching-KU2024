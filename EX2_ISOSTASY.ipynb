{
 "cells": [
  {
   "cell_type": "markdown",
   "metadata": {},
   "source": [
    "# Isostasy and elasticity of the Earth's lithosphere\n",
    "## Exercises on crustal isostasy\n",
    "\n",
    "### Author(s), contact(s), and dates:\n",
    "- Author: Valentina Espinoza Fernández (University of Copenhagen)\n",
    "- Email:  vf@ign.ku.dk\n",
    "- Date:   3rd of January 2024"
   ]
  },
  {
   "cell_type": "markdown",
   "metadata": {},
   "source": [
    "## Exercise 2: Isostasy and elasticity in orogenic plateaus\n",
    "\n",
    "The build-up of large orogenic plateaus, such as Tibet or the Central Andeas, is the result of the convergence between tectonic plates. Over time-scales of million years, crustal material is squeezed horizontally in the process of tectonic subduction, and therefore accumulates (i.e., builds up) vertically. Bellow (or in the exercise paper) you will find two figures that show the elevation and satellite-measured free-air gravity anomaly of the Tibetan Plateau area.\n",
    "\n",
    "Perform the following exercises:\n",
    "\n",
    "1. Select a point in the middle of the Tibetan Plateau where the free-air gravity anomaly is close to zero, but not exactly zero. Make a theoretical prediction of the thickness of its roots, assuming fully isostatic conditions (i.e., no elasticity), a crustal density of $2700$ $kg/m^3$, a mantle density of $3300$ $kg/m^3$, and a standard crust of thickness $35$ $km$. \n",
    "\n",
    "2. Consider now the scenario where isostatic equilibrium is not achieved by a buoyant root (Airy compensation), but rather a mass deficit in the mountains and crust itself, i.e. the Tibet and the crust beneath are much lighter than regular crust. What would have to be the density in this case? Assume a full depth of compensation ($W = 35 km$). Is that density value reasonable, or even plausible for rocks? (for reference: $\\rho_{granite} = 2600$ $kg/m^3$, $\\rho_{shale} = 2500$ $kg/m^3$, $\\rho_{sediments} = 2000$ $kg/m^3$)\n",
    "\n",
    "3. Consider now the possibility that the Tibetan Plateau is not isostatically compensated, but rather supported by the elastic strength of the lithosphere. What would have to be the elastic thickness of the lithosphere in this case? Estimate this for a support going North-South (its widest) and East-West (its narrowest). Is that value within the range of know lithospheric thicknesses? Even if it is not, what qualitative implication does this near-zero gravity anomaly have on the mantle?\n"
   ]
  },
  {
   "cell_type": "markdown",
   "metadata": {},
   "source": [
    "Notes: \n",
    "\n",
    "- The thickness of the roots as a function of gravity anomaly is given by:\n",
    "\n",
    "$$ h_r = \\frac{1}{(\\rho_m - \\rho_c)} \\cdot \\left[ \\rho_c h_m - \\frac{\\Delta g}{2 \\pi G} \\right] $$\n",
    "\n",
    "where $\\rho_m$ is the density of the mantle, $\\rho_c$ is the density of the crust, $h_m$ is the height of the mountains, $\\Delta g$ is the free-air gravity anomaly, and $G$ is the gravitational constant.\n",
    "\n",
    "- The Pratt compensation density as a function of depth of compensation is given by:\n",
    "\n",
    "$$\\rho_{c2} = \\rho_c \\left( \\frac{W}{W+h_m} \\right)$$\n",
    "\n",
    "where $\\rho_{c2}$ is the density of the mountains/crust, $\\rho_c$ is the density of the reference crust, $W$ is the depth of compensation, and $h_m$ is the height of the mountains."
   ]
  },
  {
   "cell_type": "code",
   "execution_count": null,
   "metadata": {},
   "outputs": [],
   "source": [
    "# Public dependencies\n",
    "import os\n",
    "import sys\n",
    "import numpy as np\n",
    "import pandas as pd\n",
    "import matplotlib.pyplot as plt"
   ]
  },
  {
   "cell_type": "code",
   "execution_count": null,
   "metadata": {},
   "outputs": [],
   "source": [
    "# Online dependencies - GOOGLE DRIVE\n",
    "#from google.colab import drive\n",
    "#drive.mount('/content/gdrive')\n",
    "#path_to_SCRIPTS = '/content/gdrive/MyDrive/2024-Geodynamics/01_ISOSTASY_ELASTICITY/SCRIPTS'\n",
    "\n",
    "\n",
    "# Local dependencies - YOUR COMPUTER\n",
    "path_to_SCRIPTS = os.getcwd() \n",
    "\n",
    "\n",
    "path_to_data = os.path.join(path_to_SCRIPTS, \"DATA\")\n",
    "path_to_modules = os.path.join(path_to_SCRIPTS, \"DEPENDENCIES\")\n",
    "if not path_to_modules in sys.path: sys.path.append(path_to_modules)\n",
    "if not path_to_data in sys.path: sys.path.append(path_to_data)\n",
    "\n",
    "from map_dependencies import *\n",
    "from figure_dependencies import create_figure"
   ]
  },
  {
   "cell_type": "code",
   "execution_count": null,
   "metadata": {},
   "outputs": [],
   "source": [
    "fig1, ax1 = create_figure(figsize=(10,10))\n",
    "add_topography(fig1, ax1,\n",
    "               mountain=\"TIBET\",\n",
    "               colormap=\"jet\",\n",
    "               map_range=[0, 7])\n",
    "\n",
    "\n",
    "add_coastlines(fig1, ax1, line_color='white')\n",
    "ax1.set_title(\"Tibet topography\", fontsize=14);"
   ]
  },
  {
   "cell_type": "code",
   "execution_count": null,
   "metadata": {},
   "outputs": [],
   "source": [
    "fig2, ax2 = create_figure(figsize=(10,10))\n",
    "add_gravity(fig2, ax2,\n",
    "            mountain=\"TIBET\",\n",
    "            colormap=\"bwr\", \n",
    "            map_range=[-200, 200])\n",
    "\n",
    "\n",
    "add_coastlines(fig2, ax2, line_color='black')\n",
    "ax2.set_title(\"Tibet Free-Air Gravity Anomaly\", fontsize=14);\n",
    "\n",
    "# The \"bwr\" colormap enhances the contrast between the positive and negative anomalies. \n",
    "# To enhance differences within the positive and negative ranges you can experiment with other color gradient, e.g. \"gist_rainbow\".\n",
    "# Available colormaps: https://matplotlib.org/stable/tutorials/colors/colormaps.html"
   ]
  },
  {
   "cell_type": "markdown",
   "metadata": {},
   "source": [
    "We start by selecting a point somewhere in the middle of the Tibetan Plateau. We will use a point located at coordinates (91.0°E, 32.0°N), which shows a free-air gravity anomaly of about 25.0 mGal (light red shade).\n",
    "\n",
    "You can add this point to any of the above maps by calling the `scatter()` function on the particular Axes object (`ax1` for the topographic map and `ax2` for the gravity anomaly one). Then, you call the respective Figure object to re-plot it. Beware that re-running the cell below will keep adding new points to the map. For a fresh start, you need to re-run the cell above where the map is originally created with `create_figure()`."
   ]
  },
  {
   "cell_type": "code",
   "execution_count": null,
   "metadata": {},
   "outputs": [],
   "source": [
    "ax1.scatter(x=91, y=32, facecolor='none', edgecolor='black')\n",
    "fig1"
   ]
  },
  {
   "cell_type": "markdown",
   "metadata": {},
   "source": [
    "Eye-balling we say that our selected point is located at a height of 5000 m above sea level."
   ]
  },
  {
   "cell_type": "markdown",
   "metadata": {},
   "source": [
    "### Airy compensation\n",
    "\n",
    "We can now calculate the theoretical thickness of the crustal roots ($h_{r}$) by using the equation:\n",
    "\n",
    "$$ h_r = \\frac{1}{(\\rho_m - \\rho_c)} \\cdot \\left[ \\rho_c h_m - \\frac{\\Delta g}{2 \\pi G} \\right] $$\n",
    "\n",
    "where $\\rho_m$ is the density of the mantle, $\\rho_c$ is the density of the crust, $h_m$ is the height of the mountains, $\\Delta g$ is the free-air gravity anomaly, and $G$ is the gravitational constant."
   ]
  },
  {
   "cell_type": "code",
   "execution_count": null,
   "metadata": {},
   "outputs": [],
   "source": [
    "h_m = 0.0     # Put the height of the mountains for the selected point! Make sure to use SI units (meters).\n",
    "d_grav = 0.0  # Put the gravity anomaly for the selected point! Make sure to use SI units (m/s^2).\n",
    "\n",
    "rho_m = 3300.0  # Density of the mantle [kg/m3]\n",
    "rho_c = 2700.0  # Density of the crust [kg/m3]\n",
    "\n",
    "\n",
    "def thickness_roots(d_grav, rho_m, rho_c, h_m):\n",
    "    \"\"\" Calculates the thickness of the root in meteres.\n",
    "    Based on Bouguer disk equation, only for wide plateaus. \"\"\"\n",
    "    \n",
    "    G = 6.67e-11  # Gravitational constant [N*kg-2*m2]\n",
    "    h_r = (rho_c * h_m - (d_grav/(2*np.pi*G))) / (rho_m - rho_c)\n",
    "    return h_r\n",
    "\n",
    "\n",
    "# Thickness of the roots [m]\n",
    "h_r = thickness_roots(d_grav, rho_m, rho_c, h_m)   \n",
    "print(f\"Thickness of the roots: {h_r/1e3:.2f} km\")"
   ]
  },
  {
   "cell_type": "markdown",
   "metadata": {},
   "source": [
    "How sensible is this calculation to your choice of gravity anomaly? What would be the thickness if the gravity anomaly was zero, or slightly negative? \n",
    "\n",
    "What about the influence of your chosen height of the mountains? What is the range of possible values for the thickness of the crustal roots, giving your pick an uncertainty of  $\\pm$ 500 meters?"
   ]
  },
  {
   "cell_type": "markdown",
   "metadata": {},
   "source": [
    "### Pratt compensation\n",
    "\n",
    "We have been asked to calculate the theoretical density of the mountains/crust in order to achieve a full Pratt compensation of the Tibetan Plateau, i.e. without roots. We can do this by using the equation:\n",
    "\n",
    "$$\\rho_{c2} = \\rho_c \\left( \\frac{W}{W+h_m} \\right)$$\n",
    "\n",
    "where $\\rho_{c2}$ is the density of the mountains/crust, $\\rho_c$ is the density of the reference crust, $W$ is the depth of compensation, and $h_m$ is the height of the mountains."
   ]
  },
  {
   "cell_type": "code",
   "execution_count": null,
   "metadata": {},
   "outputs": [],
   "source": [
    "h_m = 1.0   # Put the height of the mountains for the selected point! Make sure to use SI units (meters).\n",
    "W = 1.0     # Put the given depth of compensation! Make sure to use SI units (meters).\n",
    "\n",
    "# Density of the compensated crust [kg/m3]\n",
    "rho_c2 = 2700 * (W / (W + h_m)) \n",
    "print(f\"Density of the compensated crust: {rho_c2:.2f} kg/m3\")"
   ]
  },
  {
   "cell_type": "markdown",
   "metadata": {},
   "source": [
    "This values represents the minimum density contrast required to achieve a full Pratt compensation. This density value could be higher if we allowed for a partial compensation of roots. It could also be lower if we allowed for a partial density compensation of the crust itself ($W < 35 km$). "
   ]
  },
  {
   "cell_type": "markdown",
   "metadata": {},
   "source": [
    "If you were told that the top 800 meters of the plateau is made of sediments with a density of 2200 kg/m3, and the rest is regular continental crust: What would have to be the thickness of the roots? What approach (of the multiple seen in the lecture) would you use?"
   ]
  },
  {
   "cell_type": "markdown",
   "metadata": {},
   "source": [
    "### Elastic support"
   ]
  },
  {
   "cell_type": "markdown",
   "metadata": {},
   "source": [
    "You will need to know the horizontal extent of the Tibetan Plateau in order to calculate the elastic support. You can get a rough estimate from the map above, but bear in mind that distances are distorted in the map's rectangular projection. \n",
    "\n",
    "Alternatively, you can use the `geodesic_distance()` function (from the `map_dependencies` module) to calculate the distance between two points on the Earth's surface. This function takes as input the coordinates of the two points (in degrees) and returns the distance between them (in meters). "
   ]
  },
  {
   "cell_type": "code",
   "execution_count": null,
   "metadata": {},
   "outputs": [],
   "source": [
    "# You can test the position of your selected longitudes and latitudes by plotting them on the map.\n",
    "\n",
    "# East-West profile\n",
    "ax1.plot([77.5, 96.0],  # longitudes\n",
    "         [32.5, 32.5],  # latitudes\n",
    "         marker = 'x',\n",
    "         linestyle = '-',\n",
    "         color = 'k')  # you can compact the above to simply 'x-k' \n",
    "\n",
    "# North-South profile\n",
    "ax1.plot([0.0], [0.0], 'x-k')     # Fill with your own pair of coordinates!\n",
    "fig1"
   ]
  },
  {
   "cell_type": "code",
   "execution_count": null,
   "metadata": {},
   "outputs": [],
   "source": [
    "# East-West profile\n",
    "point1_lon = 77.5\n",
    "point1_lat = 32.5\n",
    "point2_lon = 96.0\n",
    "point2_lat = 32.5\n",
    "distance = geodesic_distance(point1_lon, point1_lat, point2_lon, point2_lat)\n",
    "print(f\"Geodesic distance: {distance/1e3:.2f} km\")"
   ]
  },
  {
   "cell_type": "code",
   "execution_count": null,
   "metadata": {},
   "outputs": [],
   "source": [
    "from ELASTIC_BENDING_DEGREE import plot_elastic_bending_degree\n",
    "\n",
    "elastic_thickness_values = [35e3, 90e3]    # Try different values for the elastic thickness [m]\n",
    "fig3, ax3 = plot_elastic_bending_degree(elastic_thickness_values)"
   ]
  },
  {
   "cell_type": "markdown",
   "metadata": {},
   "source": [
    "We are looking for a value of `elastic_thickness` that will yield near-zero degree of vertical deflection for a wavelength of load comparable to the horizontal extent of the plateau. You can try higher values and get a rough idea of the necessary order of thickness. "
   ]
  },
  {
   "cell_type": "code",
   "execution_count": null,
   "metadata": {},
   "outputs": [],
   "source": [
    "ax3.fill_between([700, 1700], [0.0, 0.0], [1.0, 1.0], color='green', alpha=0.2, label=\"Tibet range of\\nhorizontal extension\")\n",
    "ax3.legend(bbox_to_anchor=(1.01, 1.0))\n",
    "fig3"
   ]
  },
  {
   "cell_type": "markdown",
   "metadata": {},
   "source": [
    "Did you arrive at a reasonable value for the elastic thickness of the crust? Know that the elastic thickness of the lithosphere is am imaginary value and not something one can measure directly (like the Moho). So even if plates can reach a couple of hundred kilometers, the elastic thickness is usually much smaller (tens of kilometers).\n",
    "\n",
    "The average thickness of the lithosphere is about 35 km. Can you estimate from the figure above what is the maximum load extension that the lithosphere can fully support?"
   ]
  }
 ],
 "metadata": {
  "kernelspec": {
   "display_name": "Python 3",
   "language": "python",
   "name": "python3"
  },
  "language_info": {
   "codemirror_mode": {
    "name": "ipython",
    "version": 3
   },
   "file_extension": ".py",
   "mimetype": "text/x-python",
   "name": "python",
   "nbconvert_exporter": "python",
   "pygments_lexer": "ipython3",
   "version": "3.8.16"
  }
 },
 "nbformat": 4,
 "nbformat_minor": 4
}
