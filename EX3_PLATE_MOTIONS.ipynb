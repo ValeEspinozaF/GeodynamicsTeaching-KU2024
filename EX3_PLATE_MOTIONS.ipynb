{
  "cells": [
    {
      "cell_type": "markdown",
      "metadata": {
        "id": "Sz8hPDD4y_2Z"
      },
      "source": [
        "# Earth's lithospheric motions\n",
        "## Exercises on present plate motions: rigidity and deformation\n",
        "\n",
        "### Author(s), contact(s), and dates:\n",
        "- Author: Valentina Espinoza Fernández (University of Copenhagen)\n",
        "- Email:  vf@ign.ku.dk\n",
        "- Date:   9th of January 2024"
      ]
    },
    {
      "cell_type": "code",
      "execution_count": 8,
      "metadata": {
        "id": "CdVI7bhhy_2d"
      },
      "outputs": [],
      "source": [
        "# Public dependencies\n",
        "import os\n",
        "import sys\n",
        "import numpy as np\n",
        "import pandas as pd\n",
        "from pathlib import Path\n",
        "import matplotlib.pyplot as plt"
      ]
    },
    {
      "cell_type": "code",
      "execution_count": 9,
      "metadata": {
        "colab": {
          "base_uri": "https://localhost:8080/",
          "height": 390
        },
        "id": "sN7wMAr7KwUZ",
        "outputId": "8d9b0bc1-dcff-4444-865e-be9a6ae640f3"
      },
      "outputs": [],
      "source": [
        "# Online dependencies - GOOGLE DRIVE\n",
        "#from google.colab import drive\n",
        "#drive.mount('/content/gdrive')\n",
        "#path_to_EXERCISE_MATERIAL = '/content/gdrive/MyDrive/2024-Geodynamics/2_PLATE_MOTIONS'\n",
        "\n",
        "\n",
        "# Local dependencies - YOUR COMPUTER\n",
        "path_to_data = os.path.join(os.getcwd(), \"DATA\")\n",
        "path_to_modules = os.path.join(os.getcwd(), \"DEPENDENCIES\")\n",
        "if not path_to_modules in sys.path: sys.path.append(path_to_modules)\n",
        "if not path_to_data in sys.path: sys.path.append(path_to_data)\n",
        "\n",
        "\n",
        "from surfvel_dependencies import ev_to_surfvel_eastnorth"
      ]
    },
    {
      "cell_type": "markdown",
      "metadata": {
        "id": "8S6iweIYy_2e"
      },
      "source": [
        "We start by uploading the data the model REBEL-2000. from Sella et al. (2002). "
      ]
    },
    {
      "cell_type": "code",
      "execution_count": 10,
      "metadata": {
        "id": "6357T0uJy_2f"
      },
      "outputs": [],
      "source": [
        "angvel_data = pd.read_csv(os.path.join(path_to_data, \"REBEL_SELLA2002_TABLE3.txt\"), delimiter=' ', index_col=0)\n",
        "angvel_data"
      ]
    },
    {
      "cell_type": "markdown",
      "metadata": {},
      "source": [
        "For the purpose of this exercise, we will only use the average Euler vector, i.e. we will ignore uncertainties (given through the covariance matrix elements)."
      ]
    },
    {
      "cell_type": "code",
      "execution_count": 12,
      "metadata": {
        "id": "uD7wmad_U8p3"
      },
      "outputs": [
        {
          "data": {
            "text/plain": [
              "wX   -0.076198\n",
              "wY   -0.455625\n",
              "wZ    0.453224\n",
              "Name: Nz, dtype: float64"
            ]
          },
          "execution_count": 12,
          "metadata": {},
          "output_type": "execute_result"
        }
      ],
      "source": [
        "vec_Nz = angvel_data.loc[\"Nz\"][[\"wX\",\"wY\",\"wZ\"]] * (180/np.pi * 1e-3)     # Euler vector in cartesian coordinates for the Nazca plate [deg/Myr]\n",
        "vec_Sa = angvel_data.loc[\"Sa\"][[\"wX\",\"wY\",\"wZ\"]] * (180/np.pi * 1e-3)     # Euler vector in cartesian coordinates for the South-America plate [deg/Myr]\n",
        "vec_Sa"
      ]
    },
    {
      "cell_type": "markdown",
      "metadata": {
        "id": "CyHv1oqTy_2f"
      },
      "source": [
        "These vectors are in Cartesian coordinates, which allows us to directly work algebraically with them to obtain the vector of relative motion between Sa/Nz:\n",
        "$$\\omega_{SA/NZ} = \\omega_{ITRF/SA} - \\omega_{ITRF/NZ}$$"
      ]
    },
    {
      "cell_type": "code",
      "execution_count": 14,
      "metadata": {
        "id": "3Wpz-nOUy_2g"
      },
      "outputs": [
        {
          "data": {
            "text/plain": [
              "wX    0.008023\n",
              "wY    0.388346\n",
              "wZ   -0.499579\n",
              "dtype: float64"
            ]
          },
          "execution_count": 14,
          "metadata": {},
          "output_type": "execute_result"
        }
      ],
      "source": [
        "vec_SaNz = vec_Sa - vec_Nz\n",
        "vec_SaNz"
      ]
    },
    {
      "cell_type": "markdown",
      "metadata": {
        "id": "NyZ74JUoy_2g"
      },
      "source": [
        "The next step is to take this Euler vector and calculate the relative velocity in the same coordinates as those used by Norabuena for the South American plate."
      ]
    },
    {
      "cell_type": "code",
      "execution_count": 15,
      "metadata": {
        "id": "QMmuqmLGy_2g"
      },
      "outputs": [],
      "source": [
        "lon_pnts = [0.0, 0.0, 0.0, 0.0, 0.0]      ## write the coordinates of the blue dots here!!\n",
        "lat_pnts = [0.0, 0.0, 0.0, 0.0, 0.0]\n",
        "\n",
        "N_pnts = len(lon_pnts)\n",
        "pts_azul = pd.DataFrame(data=dict(lon_pt = lon_pnts,\n",
        "                                  lat_pt = lat_pnts,\n",
        "                                  v_east = np.zeros(N_pnts),\n",
        "                                  v_north = np.zeros(N_pnts)) )\n",
        "\n",
        "v_total = np.zeros(N_pnts)\n",
        "\n",
        "for i in range(N_pnts):\n",
        "    v_east, v_north = ev_to_surfvel_eastnorth(vec_SaNz,                # function ev_to_surfvel_eastnorth takes the Euler vector in Cartesian coordinates as input\n",
        "                                              pts_azul[\"lon_pt\"][i],\n",
        "                                              pts_azul[\"lat_pt\"][i])\n",
        "\n",
        "    pts_azul[\"v_east\"][i], pts_azul[\"v_north\"][i] = v_east, v_north      # The output consists of the east and north components in [cm/yr]"
      ]
    },
    {
      "cell_type": "code",
      "execution_count": 16,
      "metadata": {
        "id": "XOFn5MYQVSWW"
      },
      "outputs": [
        {
          "data": {
            "text/html": [
              "<div>\n",
              "<style scoped>\n",
              "    .dataframe tbody tr th:only-of-type {\n",
              "        vertical-align: middle;\n",
              "    }\n",
              "\n",
              "    .dataframe tbody tr th {\n",
              "        vertical-align: top;\n",
              "    }\n",
              "\n",
              "    .dataframe thead th {\n",
              "        text-align: right;\n",
              "    }\n",
              "</style>\n",
              "<table border=\"1\" class=\"dataframe\">\n",
              "  <thead>\n",
              "    <tr style=\"text-align: right;\">\n",
              "      <th></th>\n",
              "      <th>lon_pt</th>\n",
              "      <th>lat_pt</th>\n",
              "      <th>v_east</th>\n",
              "      <th>v_north</th>\n",
              "    </tr>\n",
              "  </thead>\n",
              "  <tbody>\n",
              "    <tr>\n",
              "      <th>0</th>\n",
              "      <td>0.0</td>\n",
              "      <td>0.0</td>\n",
              "      <td>-5.555066</td>\n",
              "      <td>-4.318207</td>\n",
              "    </tr>\n",
              "    <tr>\n",
              "      <th>1</th>\n",
              "      <td>0.0</td>\n",
              "      <td>0.0</td>\n",
              "      <td>-5.555066</td>\n",
              "      <td>-4.318207</td>\n",
              "    </tr>\n",
              "    <tr>\n",
              "      <th>2</th>\n",
              "      <td>0.0</td>\n",
              "      <td>0.0</td>\n",
              "      <td>-5.555066</td>\n",
              "      <td>-4.318207</td>\n",
              "    </tr>\n",
              "    <tr>\n",
              "      <th>3</th>\n",
              "      <td>0.0</td>\n",
              "      <td>0.0</td>\n",
              "      <td>-5.555066</td>\n",
              "      <td>-4.318207</td>\n",
              "    </tr>\n",
              "    <tr>\n",
              "      <th>4</th>\n",
              "      <td>0.0</td>\n",
              "      <td>0.0</td>\n",
              "      <td>-5.555066</td>\n",
              "      <td>-4.318207</td>\n",
              "    </tr>\n",
              "  </tbody>\n",
              "</table>\n",
              "</div>"
            ],
            "text/plain": [
              "   lon_pt  lat_pt    v_east   v_north\n",
              "0     0.0     0.0 -5.555066 -4.318207\n",
              "1     0.0     0.0 -5.555066 -4.318207\n",
              "2     0.0     0.0 -5.555066 -4.318207\n",
              "3     0.0     0.0 -5.555066 -4.318207\n",
              "4     0.0     0.0 -5.555066 -4.318207"
            ]
          },
          "execution_count": 16,
          "metadata": {},
          "output_type": "execute_result"
        }
      ],
      "source": [
        "pts_azul"
      ]
    },
    {
      "cell_type": "markdown",
      "metadata": {
        "id": "pYm9nkjwy_2h"
      },
      "source": [
        "How do these results compare to those obtained by Norabuena for in-situ measurements of the relative motion between South America and Nazca?"
      ]
    },
    {
      "cell_type": "code",
      "execution_count": 17,
      "metadata": {
        "id": "DSz9wYQmy_2i"
      },
      "outputs": [
        {
          "data": {
            "text/html": [
              "<div>\n",
              "<style scoped>\n",
              "    .dataframe tbody tr th:only-of-type {\n",
              "        vertical-align: middle;\n",
              "    }\n",
              "\n",
              "    .dataframe tbody tr th {\n",
              "        vertical-align: top;\n",
              "    }\n",
              "\n",
              "    .dataframe thead th {\n",
              "        text-align: right;\n",
              "    }\n",
              "</style>\n",
              "<table border=\"1\" class=\"dataframe\">\n",
              "  <thead>\n",
              "    <tr style=\"text-align: right;\">\n",
              "      <th></th>\n",
              "      <th>v_east</th>\n",
              "      <th>v_north</th>\n",
              "    </tr>\n",
              "  </thead>\n",
              "  <tbody>\n",
              "    <tr>\n",
              "      <th>0</th>\n",
              "      <td>0.0</td>\n",
              "      <td>0.0</td>\n",
              "    </tr>\n",
              "    <tr>\n",
              "      <th>1</th>\n",
              "      <td>0.0</td>\n",
              "      <td>0.0</td>\n",
              "    </tr>\n",
              "    <tr>\n",
              "      <th>2</th>\n",
              "      <td>0.0</td>\n",
              "      <td>0.0</td>\n",
              "    </tr>\n",
              "    <tr>\n",
              "      <th>3</th>\n",
              "      <td>0.0</td>\n",
              "      <td>0.0</td>\n",
              "    </tr>\n",
              "    <tr>\n",
              "      <th>4</th>\n",
              "      <td>0.0</td>\n",
              "      <td>0.0</td>\n",
              "    </tr>\n",
              "  </tbody>\n",
              "</table>\n",
              "</div>"
            ],
            "text/plain": [
              "   v_east  v_north\n",
              "0     0.0      0.0\n",
              "1     0.0      0.0\n",
              "2     0.0      0.0\n",
              "3     0.0      0.0\n",
              "4     0.0      0.0"
            ]
          },
          "execution_count": 17,
          "metadata": {},
          "output_type": "execute_result"
        }
      ],
      "source": [
        "norab_data = pd.DataFrame(data=dict(v_east  = [0.0, 0.0, 0.0, 0.0, 0.0],           ## coloca los datos de Norabuena aqui!!\n",
        "                                    v_north = [0.0, 0.0, 0.0, 0.0, 0.0]))\n",
        "\n",
        "norab_data"
      ]
    },
    {
      "cell_type": "markdown",
      "metadata": {
        "id": "Gvuf1B_Jy_2j"
      },
      "source": [
        "\n",
        "Grafica una comparación de los resultados."
      ]
    },
    {
      "cell_type": "code",
      "execution_count": 18,
      "metadata": {
        "id": "QW2Gcziby_2j"
      },
      "outputs": [
        {
          "data": {
            "image/png": "[encoded data removed]",
            "text/plain": [
              "<Figure size 1100x500 with 2 Axes>"
            ]
          },
          "metadata": {},
          "output_type": "display_data"
        }
      ],
      "source": [
        "fig, ax = plt.subplots(1, 2, figsize =(11,5), gridspec_kw=dict(wspace=0.25))\n",
        "ax[0].set(title = \"Velocidad superficial relativa Sa/Nz - Este\",\n",
        "          xlabel = \"Localizaciones\",\n",
        "          ylabel = \"[mm/yr]\",\n",
        "          ylim = (-66, -28),\n",
        "          xticks = np.arange(1,6),\n",
        "          xticklabels = ['ST1', 'ST2', 'ST3', 'ST4', 'ST5'],\n",
        "          );\n",
        "\n",
        "ax[1].set(title = \"Velocidad superficial relativa Sa/Nz - Norte\",\n",
        "          xlabel = \"Localizaciones\",\n",
        "          ylabel = \"[mm/yr]\",\n",
        "          ylim = (-21, -11.5),\n",
        "          xticks = np.arange(1,6),\n",
        "          xticklabels = ['ST1', 'ST2', 'ST3', 'ST4', 'ST5'],\n",
        "          );\n",
        "\n",
        "ax[0].plot(np.arange(1, 6), pts_azul[\"v_east\"], 'or', label=\"from REVEL-2000\")\n",
        "ax[0].plot(np.arange(1, 6), norab_data[\"v_east\"], 'sb', label=\"from Norabuena et al. (1998)\")\n",
        "\n",
        "ax[1].plot(np.arange(1, 6), pts_azul[\"v_north\"], 'or', label=\"from REVEL-2000\");\n",
        "ax[1].plot(np.arange(1, 6), norab_data[\"v_north\"], 'sb', label=\"from Norabuena et al. (1998)\");\n",
        "\n",
        "ax[0].legend();\n",
        "ax[1].legend();\n"
      ]
    }
  ],
  "metadata": {
    "colab": {
      "provenance": []
    },
    "kernelspec": {
      "display_name": "base",
      "language": "python",
      "name": "python3"
    },
    "language_info": {
      "codemirror_mode": {
        "name": "ipython",
        "version": 3
      },
      "file_extension": ".py",
      "mimetype": "text/x-python",
      "name": "python",
      "nbconvert_exporter": "python",
      "pygments_lexer": "ipython3",
      "version": "3.8.16"
    },
    "orig_nbformat": 4,
    "vscode": {
      "interpreter": {
        "hash": "fc8d780c5a9937c872c18a1cfb350d0c90c85ba2d3f8ee5c7ad7951e9635a330"
      }
    }
  },
  "nbformat": 4,
  "nbformat_minor": 0
}
