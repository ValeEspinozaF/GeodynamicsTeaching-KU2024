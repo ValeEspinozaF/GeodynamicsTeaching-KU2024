{
 "cells": [
  {
   "cell_type": "markdown",
   "metadata": {},
   "source": [
    "# Dynamics of tectonic plates\n",
    "## Exercises on plate dynamics\n",
    "\n",
    "### Author(s), contact(s), and dates:\n",
    "- Author: Valentina Espinoza Fernández (University of Copenhagen)\n",
    "- Email:  vf@ign.ku.dk\n",
    "- Date:   22nd of January 2024"
   ]
  },
  {
   "cell_type": "markdown",
   "metadata": {},
   "source": [
    "## Exercise 5: Forces acting on a simplified subducting plate model\n",
    "\n",
    "As we have seen, there are different main forces acting on tectonic plates [Forsyth & Uyeda, 1975]. The relevant force equations for this exercise can be found in the appendix of the exercise document. In this case, we will explore the forces acting on a highly simplified 2-D plate model - A plate with constant thickness and density ($H_s = 80$ km, $\\rho_{plate} = 2900~\\mathrm{kg/m^3}$) that subducts beneath a mantle with equally uniform density throughout ($\\rho_{mantle} = 3100~\\mathrm{kg/m^3}$). The force enabling subduction is the net weight of the subducting plate ($NW$), but this is partially counteracted by the viscous resistance of the mantle ($R$). To calculate this resistance, a mantle viscosity of $1.5~\\cdot 10^{21}~\\mathrm{Pa \\cdot s}$ is assumed, along with an instantaneous plate velocity of $50~mm/year$ and a dissipation distance equivalent to $200~km$. Together, the force produced by the weight of the subducting plate minus the viscous resistance is known as the net slab pull ($NSP$).\n",
    "\n",
    "Perform the following exercises:\n",
    "\n",
    "1. Considering a subduction with an intermediate angle, i.e., $\\alpha = 45^{\\circ}$, calculate the plate's net weight force ($NW$), viscous resistance force ($R$), and net slab pull force ($NSP$) acting on the plate. Remember that the forces are expressed in Newtons ($N$), for which all physical magnitudes included in the equations must be expressed in units of the International System. The subduction zone is 1 kilometer long, and the deepest portion of the slab is at a depth ($z_{tip}$) of $200~km$. What is the order of magnitude of the calculated forces?\n",
    "\n",
    "2. With the same parameters as in item 1, but in this case with a vertical subduction angle ($\\alpha = 90^{\\circ}$), calculate $NW$, $R$, and $NSP$. How do these results compare to the magnitudes from the previous item?\n",
    "\n",
    "3. Now, consider different values for the subduction angle. For instance, consider values between $10^{\\circ}$ and $90^{\\circ}$. Before plotting, can you make a prediction of how the trend will look like? Graph and compare the force trend with your prediction. How do you expect other parameters to influence the magnitude of these forces?\n",
    "\n",
    "4. Include now the force arising from the friction along the subduction interface ($FS$). Assume a value of $0.3$ for the friction coefficient ($\\mu_f = 0.3$) and a depth of $50~km$ for the brittle-ductile boundary. Are the orders of magnitude as expected? From what we discussed in class, if you were to try out a more realistic friction coefficient value, would that value be lower or higher that $0.3$? Do you expect to force to compare better to the NSP force, or drift apart even more? \n",
    "\n",
    "5. With the forces at hand, do a force balance for the plate. If the residual is not close to zero (bare in mind the orders of magnitude we are dealing with), what other force could be missing to achieve a state of equilibrium? Considering the order of magnitude, of the missing forces, which do you think is the most relevant one (i.e. the one that can account for most of the residual)? \n",
    "\n",
    "\n",
    "\n",
    "<br>\n",
    "\n",
    "***\n",
    "References:  \n",
    "- D. Forsyth and S Uyeda. “On the relative importance of the driving forces on plate motion”. In: Geophysical Journal of the Royal Astronomical Society 43 (1975), pp. 163–200.\n",
    "\n",
    "\n",
    "<br>"
   ]
  },
  {
   "cell_type": "code",
   "execution_count": 3,
   "metadata": {},
   "outputs": [],
   "source": [
    "# Public dependencies\n",
    "import numpy as np\n",
    "import pandas as pd\n",
    "import matplotlib.pyplot as plt"
   ]
  },
  {
   "cell_type": "code",
   "execution_count": 4,
   "metadata": {},
   "outputs": [],
   "source": [
    "# General parameters\n",
    "g = 9.8         # Gravity [m/s2]\n",
    "rho_m = 3100.0  # Density of the mantle [kg/m3]\n",
    "rho_p = 2900.0  # Density of the plate [kg/m3]\n",
    "\n",
    "\n",
    "# Specific parameters\n",
    "d_rho = rho_m - rho_p            # Density contrast between a uniform mantle and the subducting plate [kg/m3]\n",
    "v = 50e-3 / (365.25 * 24* 3600)  # Velocity of the plate [m/s]\n",
    "\n",
    "Hs = 80e3         # Plate thickness [m]\n",
    "mu_m = 1.5e21     # Mantle uniform viscosity [Pa s]\n",
    "Dx = 200e3        # Distance over which stresses dissipate on the mantle [m]"
   ]
  },
  {
   "cell_type": "markdown",
   "metadata": {},
   "source": [
    "The simplified model start with the assumption that all the parameters are uniform with depth, i.e. they do not depend on the depth $z$. We will solve the force integrals (make sure you understand how) and write them into Python functions that we later use for the many calculations ahead.\n",
    "\n",
    "$$ NW = \\frac{1}{sin(\\theta)} \\cdot g \\cdot \\Delta \\rho \\cdot H_s \\cdot z_{tip} $$\n",
    "\n",
    "$$ R = \\frac{2}{sin(\\theta)} \\cdot \\mu \\cdot \\frac{v}{Dx} \\cdot z_{tip} $$\n",
    "\n",
    "Note the expected units for the paramaters of the equations below, specially the units for the angle `theta_slab`."
   ]
  },
  {
   "cell_type": "code",
   "execution_count": 5,
   "metadata": {},
   "outputs": [],
   "source": [
    "# Slab net weight (NW)\n",
    "def nw_force(theta_slab, g, d_rho, Hs, z_tip):\n",
    "    return 1/np.sin(np.radians(theta_slab)) * g * d_rho * Hs * z_tip\n",
    "\n",
    "# Subduction resistance (R)\n",
    "def r_force(theta_slab, mu_m, v, Dx, z_tip):\n",
    "    return 2/np.sin(np.radians(theta_slab)) * mu_m * v/Dx * z_tip"
   ]
  },
  {
   "cell_type": "markdown",
   "metadata": {},
   "source": [
    "### Subduction with a 45° angle"
   ]
  },
  {
   "cell_type": "code",
   "execution_count": 14,
   "metadata": {},
   "outputs": [
    {
     "data": {
      "text/html": [
       "<div>\n",
       "<style scoped>\n",
       "    .dataframe tbody tr th:only-of-type {\n",
       "        vertical-align: middle;\n",
       "    }\n",
       "\n",
       "    .dataframe tbody tr th {\n",
       "        vertical-align: top;\n",
       "    }\n",
       "\n",
       "    .dataframe thead th {\n",
       "        text-align: right;\n",
       "    }\n",
       "</style>\n",
       "<table border=\"1\" class=\"dataframe\">\n",
       "  <thead>\n",
       "    <tr style=\"text-align: right;\">\n",
       "      <th></th>\n",
       "      <th>NW</th>\n",
       "      <th>R</th>\n",
       "      <th>NSP</th>\n",
       "    </tr>\n",
       "  </thead>\n",
       "  <tbody>\n",
       "    <tr>\n",
       "      <th>45 deg</th>\n",
       "      <td>4.434974e+13</td>\n",
       "      <td>6.722059e+12</td>\n",
       "      <td>3.762768e+13</td>\n",
       "    </tr>\n",
       "  </tbody>\n",
       "</table>\n",
       "</div>"
      ],
      "text/plain": [
       "                  NW             R           NSP\n",
       "45 deg  4.434974e+13  6.722059e+12  3.762768e+13"
      ]
     },
     "execution_count": 14,
     "metadata": {},
     "output_type": "execute_result"
    }
   ],
   "source": [
    "theta_slab_45 = 45     # Angle of the subducting slab [degrees]\n",
    "z_tip = 200e3          # Depth of the tip of the slab [m]\n",
    "\n",
    "forces_df = pd.DataFrame(columns=['NW', 'R', 'NSP'])    # We will create a dataframe to store the forces\n",
    "\n",
    "\n",
    "NW = nw_force(theta_slab_45, g, d_rho, Hs, z_tip)\n",
    "R = r_force(theta_slab_45, mu_m, v, Dx, z_tip)\n",
    "NSP = NW - R\n",
    "\n",
    "forces_df.loc[\"45 deg\"] = [NW, R, NSP]\n",
    "forces_df"
   ]
  },
  {
   "cell_type": "code",
   "execution_count": 21,
   "metadata": {},
   "outputs": [
    {
     "data": {
      "text/plain": [
       "37627678783179.86"
      ]
     },
     "execution_count": 21,
     "metadata": {},
     "output_type": "execute_result"
    }
   ],
   "source": [
    "forces_df[\"NSP\"][\"45 deg\"]"
   ]
  },
  {
   "cell_type": "markdown",
   "metadata": {},
   "source": [
    "These forces actually expressed in N/m (Newton per meter), and represent the force for each linear meter of convergent margin. The force acting on a plate is in reality the integral over the length of the boundary. For our simplified plate, one can simply multiply by the length of the margin in question."
   ]
  },
  {
   "cell_type": "code",
   "execution_count": 24,
   "metadata": {},
   "outputs": [
    {
     "name": "stdout",
     "output_type": "stream",
     "text": [
      "Net slab pull force: 3.76e+16 N\n"
     ]
    }
   ],
   "source": [
    "L_conv = 1e3    # Length of the convergent margin [m]\n",
    "NSP_f = forces_df[\"NSP\"][\"45 deg\"] * L_conv\n",
    "\n",
    "print(f\"Net slab pull force: {NSP_f:.2e} N\")"
   ]
  },
  {
   "cell_type": "markdown",
   "metadata": {},
   "source": [
    "### Subduction with a 90° angle"
   ]
  },
  {
   "cell_type": "markdown",
   "metadata": {},
   "source": [
    "Try now to calculate the forces for a subduction with a 90° angle. Before you do, can you predict what will happen? Will the forces be larger or smaller than for the 45° case?"
   ]
  },
  {
   "cell_type": "markdown",
   "metadata": {},
   "source": [
    "### Subduction for a range of angles"
   ]
  },
  {
   "cell_type": "markdown",
   "metadata": {},
   "source": [
    "What about values between $10^{\\circ}$ and $90^{\\circ}$. Before plotting, try and make a prediction of how the trend will look like."
   ]
  },
  {
   "cell_type": "code",
   "execution_count": 25,
   "metadata": {},
   "outputs": [],
   "source": [
    "N_angles = 30   # Number of angles to test\n",
    "theta_slab_array = np.linspace(10, 90, N_angles)    # Array of angles to test\n",
    "NW_array = [nw_force(theta_slab, g, d_rho, Hs, z_tip) for theta_slab in theta_slab_array]"
   ]
  },
  {
   "cell_type": "code",
   "execution_count": 37,
   "metadata": {},
   "outputs": [
    {
     "data": {
      "image/png": "[encoded data removed]",
      "text/plain": [
       "<Figure size 1000x400 with 2 Axes>"
      ]
     },
     "metadata": {},
     "output_type": "display_data"
    }
   ],
   "source": [
    "fig, (ax1, ax2) = plt.subplots(1, 2, figsize =(10,4))\n",
    "ax1.set(title = \"NW vs angle\",\n",
    "        xlabel = \"Subduction angle [deg]\",\n",
    "        ylabel = \"Force [N/m]\",\n",
    "        );\n",
    "\n",
    "ax1.plot(theta_slab_array, NW_array, 'or');\n",
    "\n",
    "# Fill the other plot (ax2) with the resistance force results!"
   ]
  },
  {
   "cell_type": "markdown",
   "metadata": {},
   "source": [
    "### Friction along the subducting interface"
   ]
  },
  {
   "cell_type": "markdown",
   "metadata": {},
   "source": [
    "Lets consider now the input of the friction along the subduction interface ($FS$) onto the force balance of our imaginary plate."
   ]
  },
  {
   "cell_type": "code",
   "execution_count": 38,
   "metadata": {},
   "outputs": [],
   "source": [
    "# Friction along the subduction interface ($FS$)\n",
    "def fs_force(f, rho_up, g, Hbdt, theta_interface):\n",
    "    return f * rho_up * g * (Hbdt**2) / (2 * np.tan(np.radians(theta_interface)))"
   ]
  },
  {
   "cell_type": "code",
   "execution_count": 48,
   "metadata": {},
   "outputs": [
    {
     "name": "stderr",
     "output_type": "stream",
     "text": [
      "C:\\Users\\nbt571\\AppData\\Local\\Temp\\ipykernel_9100\\361345704.py:7: SettingWithCopyWarning: \n",
      "A value is trying to be set on a copy of a slice from a DataFrame\n",
      "\n",
      "See the caveats in the documentation: https://pandas.pydata.org/pandas-docs/stable/user_guide/indexing.html#returning-a-view-versus-a-copy\n",
      "  forces_df[\"FS\"][\"45 deg\"] = fs_force(f, rho_p, g, Hbdt, theta_interface);    # Fill the new column with our results\n"
     ]
    },
    {
     "data": {
      "text/plain": [
       "NW     44349737316020.257812\n",
       "R       6722058532840.401367\n",
       "NSP    37627678783179.859375\n",
       "FS     10657500000000.001953\n",
       "Name: 45 deg, dtype: object"
      ]
     },
     "execution_count": 48,
     "metadata": {},
     "output_type": "execute_result"
    }
   ],
   "source": [
    "# More parameters\n",
    "theta_interface = 45    # Angle of the subduction interface [degrees]\n",
    "Hbdt = 50e3             # Depth of the brittle-ductile transition [m]\n",
    "f = 0.3                 # Friction coefficient\n",
    "\n",
    "forces_df[\"FS\"] = \"\"    # Add a new column to the dataframe\n",
    "forces_df[\"FS\"][\"45 deg\"] = fs_force(f, rho_p, g, Hbdt, theta_interface)    # Fill the new column with our results\n",
    "forces_df.loc[\"45 deg\"]"
   ]
  },
  {
   "cell_type": "markdown",
   "metadata": {},
   "source": [
    "From what we discussed in class, if you were to try out a more realistic friction coefficient value, would that value be lower or higher that $0.3$? Do you expect to force to compare better to the NSP force, or drift apart even more?\n",
    "\n",
    "As a last task, do a force balance for the plate. If the residual is not close to zero (bare in mind the orders of magnitude we are dealing with), what other force could be missing to achieve a state of equilibrium? Considering the order of magnitude, of the missing forces, which do you think is the most relevant one (i.e. the one that can account for most of the residual)?"
   ]
  }
 ],
 "metadata": {
  "kernelspec": {
   "display_name": "py38",
   "language": "python",
   "name": "python3"
  },
  "language_info": {
   "codemirror_mode": {
    "name": "ipython",
    "version": 3
   },
   "file_extension": ".py",
   "mimetype": "text/x-python",
   "name": "python",
   "nbconvert_exporter": "python",
   "pygments_lexer": "ipython3",
   "version": "3.8.16"
  }
 },
 "nbformat": 4,
 "nbformat_minor": 2
}
